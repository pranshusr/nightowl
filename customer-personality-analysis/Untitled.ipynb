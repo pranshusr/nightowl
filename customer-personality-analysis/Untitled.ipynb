{
 "cells": [
  {
   "cell_type": "code",
   "execution_count": null,
   "id": "3aade391",
   "metadata": {},
   "outputs": [],
   "source": [
    "import numpy as np\n",
    "import pandas as pd\n",
    "import matplotlib.pyplot as plt\n",
    "import seaborn as sns\n",
    "import opendatasets as od\n",
    "import os\n",
    "import plotly.express as px\n",
    "%matplotlib inline\n",
    "\n",
    "import matplotlib.style as style\n",
    "style.use('seaborn-bright')\n",
    "style.use('seaborn-poster')\n",
    "plt.rcParams['font.family'] = 'sans-serif'\n",
    "\n",
    "\n",
    "od.download('https://www.kaggle.com/imakash3011/customer-personality-analysis')\n"
   ]
  },
  {
   "cell_type": "code",
   "execution_count": null,
   "id": "e83a64ab",
   "metadata": {},
   "outputs": [],
   "source": [
    "customer = pd.read_csv('customer-personality-analysis/marketing_campaign.csv', sep='\\t')\n"
   ]
  },
  {
   "cell_type": "code",
   "execution_count": null,
   "id": "e86b8539",
   "metadata": {},
   "outputs": [],
   "source": [
    "customer.info()\n"
   ]
  },
  {
   "cell_type": "code",
   "execution_count": null,
   "id": "b80c8eca",
   "metadata": {},
   "outputs": [],
   "source": [
    "customer.describe()"
   ]
  },
  {
   "cell_type": "code",
   "execution_count": null,
   "id": "20f72659",
   "metadata": {},
   "outputs": [],
   "source": [
    "customer = customer.dropna()"
   ]
  },
  {
   "cell_type": "code",
   "execution_count": null,
   "id": "2210e877",
   "metadata": {},
   "outputs": [],
   "source": [
    "customer\n"
   ]
  },
  {
   "cell_type": "code",
   "execution_count": null,
   "id": "a3d53023",
   "metadata": {},
   "outputs": [],
   "source": [
    "print(customer)"
   ]
  },
  {
   "cell_type": "code",
   "execution_count": null,
   "id": "17381b64",
   "metadata": {},
   "outputs": [],
   "source": [
    "import datetime as dt"
   ]
  },
  {
   "cell_type": "code",
   "execution_count": null,
   "id": "bdd74192",
   "metadata": {},
   "outputs": [],
   "source": [
    "customer['Age'] = 2015 - customer.Year_Birth"
   ]
  },
  {
   "cell_type": "code",
   "execution_count": null,
   "id": "0ad2f8e4",
   "metadata": {},
   "outputs": [],
   "source": [
    "customer['Dt_Customer'] = pd.to_datetime(customer['Dt_Customer'])\n",
    "customer['Month_Customer'] = 12.0 * (2015 - customer.Dt_Customer.dt.year ) + (1 - customer.Dt_Customer.dt.month)"
   ]
  },
  {
   "cell_type": "code",
   "execution_count": null,
   "id": "0c3fa54b",
   "metadata": {},
   "outputs": [],
   "source": [
    "customer['TotalSpendings'] =  customer.MntWines + customer.MntFruits + customer.MntMeatProducts + customer.MntFishProducts + customer.MntSweetProducts + customer.MntGoldProds"
   ]
  },
  {
   "cell_type": "code",
   "execution_count": null,
   "id": "0ec336e0",
   "metadata": {},
   "outputs": [],
   "source": [
    "customer.loc[(customer['Age'] >= 13) & (customer['Age'] <= 19), 'AgeGroup'] = 'Teen'\n",
    "customer.loc[(customer['Age'] >= 20) & (customer['Age']<= 39), 'AgeGroup'] = 'Adult'\n",
    "customer.loc[(customer['Age'] >= 40) & (customer['Age'] <= 59), 'AgeGroup'] = 'Middle Age Adult'\n",
    "customer.loc[(customer['Age'] > 60), 'AgeGroup'] = 'Senior Adult'"
   ]
  },
  {
   "cell_type": "code",
   "execution_count": null,
   "id": "67b97b3a",
   "metadata": {},
   "outputs": [],
   "source": [
    "customer['Children'] = customer['Kidhome'] + customer['Teenhome']"
   ]
  },
  {
   "cell_type": "code",
   "execution_count": null,
   "id": "a8acca61",
   "metadata": {},
   "outputs": [],
   "source": [
    "customer.Marital_Status = customer.Marital_Status.replace({'Together': 'Partner',\n",
    "                                                           'Married': 'Partner',\n",
    "                                                           'Divorced': 'Single',\n",
    "                                                           'Widow': 'Single', \n",
    "                                                           'Alone': 'Single',\n",
    "                                                           'Absurd': 'Single',\n",
    "                                                           'YOLO': 'Single'})"
   ]
  },
  {
   "cell_type": "code",
   "execution_count": null,
   "id": "1e2bad2a",
   "metadata": {},
   "outputs": [],
   "source": [
    "plt.figure(figsize=(20,10))\n",
    "sns.boxplot(y=customer.Age);\n",
    "plt.ylabel('Age', fontsize=20, labelpad=20);"
   ]
  },
  {
   "cell_type": "code",
   "execution_count": null,
   "id": "b2b107ff",
   "metadata": {},
   "outputs": [],
   "source": [
    "plt.figure(figsize=(20,10))\n",
    "sns.boxplot(y=customer.Income);\n",
    "plt.ylabel('Income', fontsize=20, labelpad=20);"
   ]
  },
  {
   "cell_type": "code",
   "execution_count": null,
   "id": "92be1e75",
   "metadata": {},
   "outputs": [],
   "source": []
  }
 ],
 "metadata": {
  "kernelspec": {
   "display_name": "Python 3",
   "language": "python",
   "name": "python3"
  },
  "language_info": {
   "codemirror_mode": {
    "name": "ipython",
    "version": 3
   },
   "file_extension": ".py",
   "mimetype": "text/x-python",
   "name": "python",
   "nbconvert_exporter": "python",
   "pygments_lexer": "ipython3",
   "version": "3.8.8"
  }
 },
 "nbformat": 4,
 "nbformat_minor": 5
}
